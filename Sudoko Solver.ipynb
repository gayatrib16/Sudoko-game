{
 "cells": [
  {
   "cell_type": "code",
   "execution_count": 7,
   "id": "dee40fff",
   "metadata": {},
   "outputs": [
    {
     "name": "stdout",
     "output_type": "stream",
     "text": [
      "No solution for this sudoko!\n"
     ]
    }
   ],
   "source": []
  },
  {
   "cell_type": "code",
   "execution_count": 8,
   "id": "58781a81",
   "metadata": {},
   "outputs": [
    {
     "name": "stdout",
     "output_type": "stream",
     "text": [
      "5 3 4 6 7 8 9 1 2 \n",
      "6 7 2 1 9 5 3 4 8 \n",
      "1 9 8 3 4 2 5 6 7 \n",
      "8 5 9 7 6 1 4 2 3 \n",
      "4 2 6 8 5 3 7 9 1 \n",
      "7 1 3 9 2 4 8 5 6 \n",
      "9 6 1 5 3 7 2 8 4 \n",
      "2 8 7 4 1 9 6 3 5 \n",
      "3 4 5 2 8 6 1 7 9 \n"
     ]
    }
   ],
   "source": [
    "def is_valid_move(grid, row, col, number):\n",
    "    for x in range(9):\n",
    "        if grid[row][x] == number:\n",
    "            return False\n",
    "        \n",
    "    for x in range(9):\n",
    "        if grid[x][col] == number:\n",
    "            return False \n",
    "        \n",
    "    corner_row = row - row % 3\n",
    "    corner_col = col - col % 3\n",
    "    \n",
    "    for x in range(3):\n",
    "        for y in range(3):\n",
    "            if grid[corner_row + x][corner_col + y] == number:\n",
    "                return False\n",
    "    return True\n",
    "\n",
    "def solve(grid, row, col):\n",
    "    if col == 9:\n",
    "        if row == 8:\n",
    "            return True\n",
    "        row += 1\n",
    "        col = 0\n",
    "    if grid[row][col] > 0:\n",
    "        return solve(grid, row, col + 1)\n",
    "    \n",
    "    for num in range(1, 10):\n",
    "        if is_valid_move(grid, row, col, num):\n",
    "            grid[row][col] = num\n",
    "\n",
    "            if solve(grid, row, col + 1):\n",
    "                return True\n",
    "            grid[row][col] = 0  # Move this line outside the 'if' statement\n",
    "\n",
    "    return False  # Move this line outside the 'for' loop\n",
    "\n",
    "grid = [\n",
    "    [5, 3, 0, 0, 7, 0, 0, 0, 0],\n",
    "    [6, 0, 0, 1, 9, 5, 0, 0, 0],\n",
    "    [0, 9, 8, 0, 0, 0, 0, 6, 0],\n",
    "    [8, 0, 0, 0, 6, 0, 0, 0, 3],\n",
    "    [4, 0, 0, 8, 0, 3, 0, 0, 1],\n",
    "    [7, 0, 0, 0, 2, 0, 0, 0, 6],\n",
    "    [0, 6, 0, 0, 0, 0, 2, 8, 0],\n",
    "    [0, 0, 0, 4, 1, 9, 0, 3, 5],\n",
    "    [0, 0, 0, 0, 8, 0, 0, 7, 9]]\n",
    "\n",
    "if solve(grid, 0, 0):\n",
    "    for i in range(9):\n",
    "        for j in range(9):\n",
    "            print(grid[i][j], end=\" \")\n",
    "        print()\n",
    "else:\n",
    "    print(\"No solution for this sudoku!\")\n"
   ]
  },
  {
   "cell_type": "code",
   "execution_count": null,
   "id": "b2dd2a2c",
   "metadata": {},
   "outputs": [],
   "source": []
  }
 ],
 "metadata": {
  "kernelspec": {
   "display_name": "Python 3 (ipykernel)",
   "language": "python",
   "name": "python3"
  },
  "language_info": {
   "codemirror_mode": {
    "name": "ipython",
    "version": 3
   },
   "file_extension": ".py",
   "mimetype": "text/x-python",
   "name": "python",
   "nbconvert_exporter": "python",
   "pygments_lexer": "ipython3",
   "version": "3.9.12"
  }
 },
 "nbformat": 4,
 "nbformat_minor": 5
}
